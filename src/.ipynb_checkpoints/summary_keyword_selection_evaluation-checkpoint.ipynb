{
 "cells": [
  {
   "cell_type": "code",
   "execution_count": 32,
   "metadata": {},
   "outputs": [],
   "source": [
    "import pandas as pd\n",
    "import numpy as np\n",
    "import re\n",
    "from dataLoader import *\n",
    "from utils import *\n",
    "import argparse\n",
    "import yaml\n",
    "import os"
   ]
  },
  {
   "cell_type": "code",
   "execution_count": 25,
   "metadata": {},
   "outputs": [],
   "source": [
    "def category_correspondence(selected_terms, categories, ename2eid, eid2DocProb, eidDocPair2Prob):\n",
    "    score = 0\n",
    "    for cat in categories:\n",
    "        if cat not in ename2eid: continue\n",
    "        scores = []\n",
    "        for term in selected_terms:\n",
    "            scores += [get_nmi(ename2eid[cat], ename2eid[term], eid2DocProb, eidDocPair2Prob)]\n",
    "        score += sum(scores)\n",
    "    return score"
   ]
  },
  {
   "cell_type": "code",
   "execution_count": 44,
   "metadata": {},
   "outputs": [],
   "source": [
    "def result(config_file):\n",
    "    with open(config_file, 'r') as ymlfile:\n",
    "        config = yaml.load(ymlfile, Loader=yaml.FullLoader)\n",
    "    \n",
    "    domain_path = config['dataset']['domain_path']\n",
    "    result_path = os.path.join(config['dataset']['domain_path'], config['dataset']['result_folder'])\n",
    "    \n",
    "    eid2ename, ename2eid = loadEidToEntityMap(domain_path + 'intermediate/entity2id.txt')\n",
    "    eid2DocProb = loadEid2DocFeature(domain_path + 'intermediate/eid2DocProb.txt')\n",
    "    eidDocPair2Prob = loadEidDocPairFeature(domain_path + 'intermediate/eidDocPair2prob.txt')\n",
    "    \n",
    "    gt_file = '../data/groundtruths/category_correspondence/arxivcs_categories.txt'\n",
    "    cs_cates = []\n",
    "    with open(gt_file, 'r') as f:\n",
    "        for line in f:\n",
    "            cat = line.strip()\n",
    "            cat = cat.lower()\n",
    "            cat = re.sub(r'[^\\x00-\\x7F]+', ' ', cat)\n",
    "            cat = cat.replace(\"-\", \" \")\n",
    "            cat = \"_\".join(cat.split())\n",
    "            cs_cates.append(cat)\n",
    "    cs_cates = np.array(cs_cates)\n",
    "    \n",
    "    selected_terms_rf = pd.read_csv(result_path+'rf.txt', header=None, sep='\\n').values[:,0]\n",
    "    selected_terms_lo = pd.read_csv(result_path+'lo.txt', header=None, sep='\\n').values[:,0]\n",
    "    selected_terms_fl = pd.read_csv(result_path+'fl.txt', header=None, sep='\\n').values[:,0]\n",
    "    selected_terms_kl_rf = pd.read_csv(result_path+'kl_rf.txt', header=None, sep='\\n').values[:,0]\n",
    "    selected_terms_mm = pd.read_csv(result_path+'mm.txt', header=None, sep='\\n').values[:,0]\n",
    "    selected_terms_kl_mm = pd.read_csv(result_path+'kl_mm.txt', header=None, sep='\\n').values[:,0]\n",
    "    \n",
    "    \n",
    "    ks = [10, 20, 30, 40, 50, 100, 200, 500]\n",
    "    ccs = []\n",
    "    for k in ks:\n",
    "        cc = []\n",
    "        cc.append(category_correspondence(selected_terms_rf[:k], cs_cates, ename2eid, eid2DocProb, eidDocPair2Prob))\n",
    "        cc.append(category_correspondence(selected_terms_lo[:k], cs_cates, ename2eid, eid2DocProb, eidDocPair2Prob))\n",
    "        cc.append(category_correspondence(selected_terms_fl[:k], cs_cates, ename2eid, eid2DocProb, eidDocPair2Prob))\n",
    "        cc.append(category_correspondence(selected_terms_kl_rf[:k], cs_cates, ename2eid, eid2DocProb, eidDocPair2Prob))\n",
    "        cc.append(category_correspondence(selected_terms_mm[:k], cs_cates, ename2eid, eid2DocProb, eidDocPair2Prob))\n",
    "        cc.append(category_correspondence(selected_terms_kl_mm[:k], cs_cates, ename2eid, eid2DocProb, eidDocPair2Prob))\n",
    "        ccs.append(\", \".join([str(round(c,4)) for c in cc]))\n",
    "        \n",
    "        print(ccs[-1])"
   ]
  },
  {
   "cell_type": "code",
   "execution_count": null,
   "metadata": {},
   "outputs": [
    {
     "name": "stderr",
     "output_type": "stream",
     "text": [
      "Loading: ../data/arxiv/cs/all_ap/intermediate/entity2id.txt: 100%|██████████| 93148/93148 [00:00<00:00, 702473.24it/s]\n",
      "Loading: ../data/arxiv/cs/all_ap/intermediate/eid2DocProb.txt: 100%|██████████| 93148/93148 [00:00<00:00, 727896.24it/s]\n",
      "Loading: ../data/arxiv/cs/all_ap/intermediate/eidDocPair2prob.txt:  44%|████▍     | 5973648/13653903 [00:19<00:18, 409761.40it/s]"
     ]
    }
   ],
   "source": [
    "config_file = \"configs/arxivcs_ap.yaml\" # candidate keywords: authoprhase extracted keywords\n",
    "result(config_file)"
   ]
  },
  {
   "cell_type": "code",
   "execution_count": null,
   "metadata": {},
   "outputs": [],
   "source": [
    "config_file = \"configs/arxivcs_sp.yaml\" # candidate keywords: springer\n",
    "result(config_file)"
   ]
  },
  {
   "cell_type": "code",
   "execution_count": 45,
   "metadata": {},
   "outputs": [
    {
     "name": "stderr",
     "output_type": "stream",
     "text": [
      "Loading: ../data/arxiv/cs/all_am/intermediate/entity2id.txt: 100%|██████████| 44938/44938 [00:00<00:00, 677034.27it/s]\n",
      "Loading: ../data/arxiv/cs/all_am/intermediate/eid2DocProb.txt: 100%|██████████| 44938/44938 [00:00<00:00, 736842.73it/s]\n",
      "Loading: ../data/arxiv/cs/all_am/intermediate/eidDocPair2prob.txt: 100%|██████████| 14735109/14735109 [00:52<00:00, 279165.55it/s]\n"
     ]
    },
    {
     "name": "stdout",
     "output_type": "stream",
     "text": [
      "1.102, 2.1205, 1.1073, 1.1109, 2.1205, 2.1645\n",
      "2.1782, 2.305, 2.1699, 2.1956, 3.3048, 3.3079\n",
      "2.2433, 3.432, 2.2508, 2.2795, 3.4394, 4.4522\n",
      "2.3159, 3.5312, 2.3012, 2.3944, 5.5693, 5.57\n",
      "2.4617, 5.6519, 3.4657, 2.4675, 5.6463, 5.6829\n",
      "3.8432, 8.1523, 3.8038, 3.8429, 9.1788, 8.1679\n",
      "6.5778, 12.1533, 6.532, 6.5431, 12.2007, 12.1013\n",
      "13.6675, 19.5232, 13.4622, 12.4942, 19.558, 20.5255\n"
     ]
    }
   ],
   "source": [
    "config_file = \"configs/arxivcs_am.yaml\" # candidate keywords: aminer\n",
    "result(config_file)"
   ]
  },
  {
   "cell_type": "code",
   "execution_count": null,
   "metadata": {},
   "outputs": [],
   "source": []
  }
 ],
 "metadata": {
  "kernelspec": {
   "display_name": "Python 3",
   "language": "python",
   "name": "python3"
  },
  "language_info": {
   "codemirror_mode": {
    "name": "ipython",
    "version": 3
   },
   "file_extension": ".py",
   "mimetype": "text/x-python",
   "name": "python",
   "nbconvert_exporter": "python",
   "pygments_lexer": "ipython3",
   "version": "3.6.9"
  }
 },
 "nbformat": 4,
 "nbformat_minor": 4
}
